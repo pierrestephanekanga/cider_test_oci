{
 "cells": [
  {
   "cell_type": "code",
   "execution_count": 1,
   "id": "9f5f6f34",
   "metadata": {},
   "outputs": [],
   "source": [
    "import sys\n",
    "sys.path.insert(0, '../../cider/cider')\n",
    "sys.path.insert(0, '../../cider')"
   ]
  },
  {
   "cell_type": "markdown",
   "id": "293715f1",
   "metadata": {},
   "source": [
    "# Featurizer"
   ]
  },
  {
   "cell_type": "code",
   "execution_count": 2,
   "id": "de339b31",
   "metadata": {},
   "outputs": [],
   "source": [
    "from datastore import DataStore\n",
    "from featurizer import Featurizer"
   ]
  },
  {
   "cell_type": "code",
   "execution_count": 3,
   "id": "110b26eb",
   "metadata": {},
   "outputs": [],
   "source": [
    "datastore = DataStore(cfg_dir='../../cider/test_OCI/config-mon-test.yml')"
   ]
  },
  {
   "cell_type": "code",
   "execution_count": 4,
   "id": "fd38fe29",
   "metadata": {},
   "outputs": [
    {
     "name": "stderr",
     "output_type": "stream",
     "text": [
      "22/07/18 13:05:19 WARN Utils: Your hostname, kanga-Predator-G3-571 resolves to a loopback address: 127.0.1.1; using 172.18.0.1 instead (on interface br-719f1ac518e7)\n",
      "22/07/18 13:05:19 WARN Utils: Set SPARK_LOCAL_IP if you need to bind to another address\n",
      "Using Spark's default log4j profile: org/apache/spark/log4j-defaults.properties\n",
      "Setting default log level to \"WARN\".\n",
      "To adjust logging level use sc.setLogLevel(newLevel). For SparkR, use setLogLevel(newLevel).\n",
      "22/07/18 13:05:20 WARN NativeCodeLoader: Unable to load native-hadoop library for your platform... using builtin-java classes where applicable\n"
     ]
    },
    {
     "name": "stdout",
     "output_type": "stream",
     "text": [
      "Loading CDR...\n"
     ]
    },
    {
     "name": "stderr",
     "output_type": "stream",
     "text": [
      "                                                                                \r"
     ]
    },
    {
     "name": "stdout",
     "output_type": "stream",
     "text": [
      "SUCCESS!\n",
      "Loading recharges...\n",
      "SUCCESS!\n",
      "Loading mobile data...\n",
      "SUCCESS!\n",
      "Loading mobile data...\n",
      "SUCCESS!\n",
      "Loading antennas...\n",
      "Warning: 0 antennas missing location\n",
      "SUCCESS!\n",
      "SUCCESS!\n"
     ]
    }
   ],
   "source": [
    "featurizer = Featurizer(datastore=datastore, clean_folders=True)"
   ]
  },
  {
   "cell_type": "code",
   "execution_count": 5,
   "id": "299116bf",
   "metadata": {},
   "outputs": [
    {
     "name": "stdout",
     "output_type": "stream",
     "text": [
      "+--------+---------------+---------------+-------------------+--------+--------------+-----------------+-------------+-------------------+\n",
      "|txn_type|      caller_id|   recipient_id|          timestamp|duration|caller_antenna|recipient_antenna|international|                day|\n",
      "+--------+---------------+---------------+-------------------+--------+--------------+-----------------+-------------+-------------------+\n",
      "|    call|2250708702205.0|2250172731029.0|2022-05-18 09:36:14|    32.0|          null|             null|international|2022-05-18 00:00:00|\n",
      "|    call|    778601318.0|2250143131505.0|2022-05-18 21:55:01|   313.0|          null|             null|international|2022-05-18 00:00:00|\n",
      "|    text|    143382275.0|2250707470952.0|2022-05-18 08:20:34|   139.0|          null|             null|international|2022-05-18 00:00:00|\n",
      "|    text|    140315841.0|2250788275977.0|2022-05-18 19:39:45|    18.0|          null|             null|international|2022-05-18 00:00:00|\n",
      "|    call|2250709349391.0|2250555613228.0|2022-05-18 07:00:31|    29.0|          null|             null|international|2022-05-18 00:00:00|\n",
      "+--------+---------------+---------------+-------------------+--------+--------------+-----------------+-------------+-------------------+\n",
      "only showing top 5 rows\n",
      "\n"
     ]
    }
   ],
   "source": [
    "featurizer.ds.cdr.show(5)"
   ]
  },
  {
   "cell_type": "code",
   "execution_count": 6,
   "id": "753932f3",
   "metadata": {},
   "outputs": [
    {
     "name": "stdout",
     "output_type": "stream",
     "text": [
      "+--------+--------------------+-------------+-------------------+-------+---------------------+--------------------+------------------------+-----------------------+-------------------+\n",
      "|txn_type|           caller_id| recipient_id|          timestamp| amount|sender_balance_before|sender_balance_after|recipient_balance_before|recipient_balance_after|                day|\n",
      "+--------+--------------------+-------------+-------------------+-------+---------------------+--------------------+------------------------+-----------------------+-------------------+\n",
      "| billpay|6Y9TAMKH!@3845U21#D0|2250708166472|2022-05-18 01:07:07| 2600.0|               2786.0|               186.0|            1.67001824E8|           1.67004416E8|2022-05-18 00:00:00|\n",
      "|     p2p|#UQAOZ91JB2GTXNWF?5M|2250757578511|2022-05-18 01:11:51|50500.0|              67547.0|             17047.0|                 30550.0|                81050.0|2022-05-18 00:00:00|\n",
      "| billpay|$NMTG2Y?XUE3SRKH76QF|2250759094730|2022-05-18 01:17:30|  600.0|               1420.0|               820.0|            1.00735272E8|           1.00735872E8|2022-05-18 00:00:00|\n",
      "+--------+--------------------+-------------+-------------------+-------+---------------------+--------------------+------------------------+-----------------------+-------------------+\n",
      "only showing top 3 rows\n",
      "\n"
     ]
    }
   ],
   "source": [
    "featurizer.ds.mobilemoney.show(3)"
   ]
  },
  {
   "cell_type": "code",
   "execution_count": 7,
   "id": "19686fde",
   "metadata": {},
   "outputs": [
    {
     "name": "stdout",
     "output_type": "stream",
     "text": [
      "+--------------------+---------+-------------------+-------------------+\n",
      "|           caller_id|   volume|          timestamp|                day|\n",
      "+--------------------+---------+-------------------+-------------------+\n",
      "|OY3E7V0IFK2L9NCR4G56|      0.0|2022-05-18 20:30:40|2022-05-18 00:00:00|\n",
      "|RE0Q?GZX8J@$V9A53FBL|      0.0|2022-05-18 18:47:42|2022-05-18 00:00:00|\n",
      "|CRVD2@EU7F#8HXJI$L59|4146056.0|2022-05-18 10:34:03|2022-05-18 00:00:00|\n",
      "+--------------------+---------+-------------------+-------------------+\n",
      "only showing top 3 rows\n",
      "\n"
     ]
    }
   ],
   "source": [
    "featurizer.ds.mobiledata.show(3)"
   ]
  },
  {
   "cell_type": "code",
   "execution_count": 8,
   "id": "ddd92e97",
   "metadata": {},
   "outputs": [
    {
     "name": "stdout",
     "output_type": "stream",
     "text": [
      "+--------------------+------+-------------------+-------------------+\n",
      "|           caller_id|amount|          timestamp|                day|\n",
      "+--------------------+------+-------------------+-------------------+\n",
      "|5XC!IPZ86#$N21VFK749| 300.0|2022-05-18 20:57:32|2022-05-18 00:00:00|\n",
      "|C9IQ47N5J!YR8BLKG$#@| 500.0|2022-05-18 21:00:47|2022-05-18 00:00:00|\n",
      "|$!0NLY2R8?7VZ1HTEAKM| 300.0|2022-05-18 20:42:43|2022-05-18 00:00:00|\n",
      "+--------------------+------+-------------------+-------------------+\n",
      "only showing top 3 rows\n",
      "\n"
     ]
    }
   ],
   "source": [
    "featurizer.ds.recharges.show(3)"
   ]
  },
  {
   "cell_type": "code",
   "execution_count": 9,
   "id": "bea47617",
   "metadata": {},
   "outputs": [
    {
     "data": {
      "text/html": [
       "<div>\n",
       "<style scoped>\n",
       "    .dataframe tbody tr th:only-of-type {\n",
       "        vertical-align: middle;\n",
       "    }\n",
       "\n",
       "    .dataframe tbody tr th {\n",
       "        vertical-align: top;\n",
       "    }\n",
       "\n",
       "    .dataframe thead th {\n",
       "        text-align: right;\n",
       "    }\n",
       "</style>\n",
       "<table border=\"1\" class=\"dataframe\">\n",
       "  <thead>\n",
       "    <tr style=\"text-align: right;\">\n",
       "      <th></th>\n",
       "      <th>region</th>\n",
       "      <th>geometry</th>\n",
       "    </tr>\n",
       "  </thead>\n",
       "  <tbody>\n",
       "    <tr>\n",
       "      <th>0</th>\n",
       "      <td>DISTRICT AUTONOME D'ABIDJAN</td>\n",
       "      <td>POLYGON ((-4.25351 5.60266, -4.22936 5.59690, ...</td>\n",
       "    </tr>\n",
       "    <tr>\n",
       "      <th>1</th>\n",
       "      <td>DISTRICT AUTONOME DE YAMOUSSOUKRO</td>\n",
       "      <td>POLYGON ((-5.23912 7.08899, -5.23720 7.08877, ...</td>\n",
       "    </tr>\n",
       "    <tr>\n",
       "      <th>2</th>\n",
       "      <td>BAS-SASSANDRA</td>\n",
       "      <td>POLYGON ((-7.00213 6.56195, -7.00386 6.55328, ...</td>\n",
       "    </tr>\n",
       "  </tbody>\n",
       "</table>\n",
       "</div>"
      ],
      "text/plain": [
       "                              region  \\\n",
       "0        DISTRICT AUTONOME D'ABIDJAN   \n",
       "1  DISTRICT AUTONOME DE YAMOUSSOUKRO   \n",
       "2                      BAS-SASSANDRA   \n",
       "\n",
       "                                            geometry  \n",
       "0  POLYGON ((-4.25351 5.60266, -4.22936 5.59690, ...  \n",
       "1  POLYGON ((-5.23912 7.08899, -5.23720 7.08877, ...  \n",
       "2  POLYGON ((-7.00213 6.56195, -7.00386 6.55328, ...  "
      ]
     },
     "execution_count": 9,
     "metadata": {},
     "output_type": "execute_result"
    }
   ],
   "source": [
    "featurizer.ds.shapefiles['districts'].head(3)"
   ]
  },
  {
   "cell_type": "code",
   "execution_count": 10,
   "id": "eba2fcf4",
   "metadata": {},
   "outputs": [
    {
     "data": {
      "text/html": [
       "<div>\n",
       "<style scoped>\n",
       "    .dataframe tbody tr th:only-of-type {\n",
       "        vertical-align: middle;\n",
       "    }\n",
       "\n",
       "    .dataframe tbody tr th {\n",
       "        vertical-align: top;\n",
       "    }\n",
       "\n",
       "    .dataframe thead th {\n",
       "        text-align: right;\n",
       "    }\n",
       "</style>\n",
       "<table border=\"1\" class=\"dataframe\">\n",
       "  <thead>\n",
       "    <tr style=\"text-align: right;\">\n",
       "      <th></th>\n",
       "      <th>region</th>\n",
       "      <th>geometry</th>\n",
       "    </tr>\n",
       "  </thead>\n",
       "  <tbody>\n",
       "    <tr>\n",
       "      <th>0</th>\n",
       "      <td>DISTRICT AUTONOME D'ABIDJAN</td>\n",
       "      <td>POLYGON ((-4.25351 5.60266, -4.22936 5.59690, ...</td>\n",
       "    </tr>\n",
       "    <tr>\n",
       "      <th>1</th>\n",
       "      <td>DISTRICT AUTONOME DE YAMOUSSOUKRO</td>\n",
       "      <td>POLYGON ((-5.23912 7.08899, -5.23720 7.08877, ...</td>\n",
       "    </tr>\n",
       "    <tr>\n",
       "      <th>2</th>\n",
       "      <td>AGNEBY-TIASSA</td>\n",
       "      <td>POLYGON ((-5.13328 6.31278, -5.12926 6.30979, ...</td>\n",
       "    </tr>\n",
       "  </tbody>\n",
       "</table>\n",
       "</div>"
      ],
      "text/plain": [
       "                              region  \\\n",
       "0        DISTRICT AUTONOME D'ABIDJAN   \n",
       "1  DISTRICT AUTONOME DE YAMOUSSOUKRO   \n",
       "2                      AGNEBY-TIASSA   \n",
       "\n",
       "                                            geometry  \n",
       "0  POLYGON ((-4.25351 5.60266, -4.22936 5.59690, ...  \n",
       "1  POLYGON ((-5.23912 7.08899, -5.23720 7.08877, ...  \n",
       "2  POLYGON ((-5.13328 6.31278, -5.12926 6.30979, ...  "
      ]
     },
     "execution_count": 10,
     "metadata": {},
     "output_type": "execute_result"
    }
   ],
   "source": [
    "featurizer.ds.shapefiles['regions'].head(3)"
   ]
  },
  {
   "cell_type": "code",
   "execution_count": 11,
   "id": "e9b60cda",
   "metadata": {},
   "outputs": [
    {
     "data": {
      "text/html": [
       "<div>\n",
       "<style scoped>\n",
       "    .dataframe tbody tr th:only-of-type {\n",
       "        vertical-align: middle;\n",
       "    }\n",
       "\n",
       "    .dataframe tbody tr th {\n",
       "        vertical-align: top;\n",
       "    }\n",
       "\n",
       "    .dataframe thead th {\n",
       "        text-align: right;\n",
       "    }\n",
       "</style>\n",
       "<table border=\"1\" class=\"dataframe\">\n",
       "  <thead>\n",
       "    <tr style=\"text-align: right;\">\n",
       "      <th></th>\n",
       "      <th>region</th>\n",
       "      <th>geometry</th>\n",
       "    </tr>\n",
       "  </thead>\n",
       "  <tbody>\n",
       "    <tr>\n",
       "      <th>0</th>\n",
       "      <td>ABENGOUROU</td>\n",
       "      <td>POLYGON ((-3.60401 7.07762, -3.60270 7.07745, ...</td>\n",
       "    </tr>\n",
       "    <tr>\n",
       "      <th>1</th>\n",
       "      <td>ABIDJAN</td>\n",
       "      <td>POLYGON ((-4.25351 5.60266, -4.22936 5.59690, ...</td>\n",
       "    </tr>\n",
       "    <tr>\n",
       "      <th>2</th>\n",
       "      <td>ABOISSO</td>\n",
       "      <td>POLYGON ((-3.15313 6.25037, -3.15130 6.24673, ...</td>\n",
       "    </tr>\n",
       "  </tbody>\n",
       "</table>\n",
       "</div>"
      ],
      "text/plain": [
       "       region                                           geometry\n",
       "0  ABENGOUROU  POLYGON ((-3.60401 7.07762, -3.60270 7.07745, ...\n",
       "1     ABIDJAN  POLYGON ((-4.25351 5.60266, -4.22936 5.59690, ...\n",
       "2     ABOISSO  POLYGON ((-3.15313 6.25037, -3.15130 6.24673, ..."
      ]
     },
     "execution_count": 11,
     "metadata": {},
     "output_type": "execute_result"
    }
   ],
   "source": [
    "featurizer.ds.shapefiles['departements'].head(3)"
   ]
  },
  {
   "cell_type": "code",
   "execution_count": 12,
   "id": "e5dfdd34",
   "metadata": {},
   "outputs": [
    {
     "data": {
      "text/html": [
       "<div>\n",
       "<style scoped>\n",
       "    .dataframe tbody tr th:only-of-type {\n",
       "        vertical-align: middle;\n",
       "    }\n",
       "\n",
       "    .dataframe tbody tr th {\n",
       "        vertical-align: top;\n",
       "    }\n",
       "\n",
       "    .dataframe thead th {\n",
       "        text-align: right;\n",
       "    }\n",
       "</style>\n",
       "<table border=\"1\" class=\"dataframe\">\n",
       "  <thead>\n",
       "    <tr style=\"text-align: right;\">\n",
       "      <th></th>\n",
       "      <th>region</th>\n",
       "      <th>geometry</th>\n",
       "    </tr>\n",
       "  </thead>\n",
       "  <tbody>\n",
       "    <tr>\n",
       "      <th>0</th>\n",
       "      <td>ANYAMA</td>\n",
       "      <td>MULTIPOLYGON (((-3.92984 5.43226, -3.92985 5.4...</td>\n",
       "    </tr>\n",
       "    <tr>\n",
       "      <th>1</th>\n",
       "      <td>BINGERVILLE</td>\n",
       "      <td>POLYGON ((-3.85948 5.41226, -3.84492 5.40087, ...</td>\n",
       "    </tr>\n",
       "    <tr>\n",
       "      <th>2</th>\n",
       "      <td>BROFODOUME</td>\n",
       "      <td>POLYGON ((-3.97498 5.59687, -3.97296 5.59646, ...</td>\n",
       "    </tr>\n",
       "  </tbody>\n",
       "</table>\n",
       "</div>"
      ],
      "text/plain": [
       "        region                                           geometry\n",
       "0       ANYAMA  MULTIPOLYGON (((-3.92984 5.43226, -3.92985 5.4...\n",
       "1  BINGERVILLE  POLYGON ((-3.85948 5.41226, -3.84492 5.40087, ...\n",
       "2   BROFODOUME  POLYGON ((-3.97498 5.59687, -3.97296 5.59646, ..."
      ]
     },
     "execution_count": 12,
     "metadata": {},
     "output_type": "execute_result"
    }
   ],
   "source": [
    "featurizer.ds.shapefiles['communes'].head(3)"
   ]
  },
  {
   "cell_type": "code",
   "execution_count": 13,
   "id": "d3651a39",
   "metadata": {},
   "outputs": [
    {
     "name": "stdout",
     "output_type": "stream",
     "text": [
      "+----------+--------+---------+\n",
      "|antenna_id|latitude|longitude|\n",
      "+----------+--------+---------+\n",
      "| 28041_117| 5.37842| -3.96777|\n",
      "| 28042_117| 5.37842| -3.96777|\n",
      "| 28043_117| 5.37842| -3.96777|\n",
      "+----------+--------+---------+\n",
      "only showing top 3 rows\n",
      "\n"
     ]
    }
   ],
   "source": [
    "featurizer.ds.antennas.show(3)"
   ]
  },
  {
   "cell_type": "markdown",
   "id": "37334cc4",
   "metadata": {},
   "source": [
    "Remove duplicate records, filter to just a specific date range, remove outlier days and spammers based on call and text volumes, and remove duplicate records in CDR, recharges, mobile data records, and mobile money records."
   ]
  },
  {
   "cell_type": "code",
   "execution_count": null,
   "id": "8224ec27",
   "metadata": {},
   "outputs": [],
   "source": [
    "# Deduplication\n",
    "featurizer.ds.deduplicate()\n",
    "\n",
    "# Filter to just January 1 - February 28 (inclusive)\n",
    "featurizer.ds.filter_dates('2022-05-17', '2022-05-19')\n",
    "\n",
    "# Remove transactions involving spammers who place 1.8+ calls/texts per active day\n",
    "#spammers = featurizer.ds.remove_spammers(spammer_threshold=1.8)"
   ]
  },
  {
   "cell_type": "code",
   "execution_count": null,
   "id": "4d763138",
   "metadata": {},
   "outputs": [],
   "source": [
    "# Remove all records from days more than 2 standard deviations from the mean transaction volume\n",
    "#outlier_days = featurizer.ds.filter_outlier_days(num_sds=2)"
   ]
  },
  {
   "cell_type": "code",
   "execution_count": null,
   "id": "5b1f74c8",
   "metadata": {},
   "outputs": [],
   "source": [
    "print(featurizer.diagnostic_statistics())"
   ]
  },
  {
   "cell_type": "code",
   "execution_count": null,
   "id": "ff795b4e",
   "metadata": {},
   "outputs": [],
   "source": [
    "featurizer.diagnostic_plots()"
   ]
  },
  {
   "cell_type": "code",
   "execution_count": null,
   "id": "fc6b0424",
   "metadata": {},
   "outputs": [],
   "source": [
    "featurizer.recharges_features()"
   ]
  },
  {
   "cell_type": "code",
   "execution_count": null,
   "id": "70524a51",
   "metadata": {},
   "outputs": [],
   "source": [
    "featurizer.mobiledata_features()"
   ]
  },
  {
   "cell_type": "code",
   "execution_count": null,
   "id": "9dcb9071",
   "metadata": {},
   "outputs": [],
   "source": [
    "featurizer.mobilemoney_features()"
   ]
  },
  {
   "cell_type": "code",
   "execution_count": null,
   "id": "cef6b964",
   "metadata": {},
   "outputs": [],
   "source": [
    "featurizer.location_features()"
   ]
  },
  {
   "cell_type": "code",
   "execution_count": null,
   "id": "6b35cc93",
   "metadata": {},
   "outputs": [],
   "source": [
    "featurizer.international_features()"
   ]
  },
  {
   "cell_type": "code",
   "execution_count": null,
   "id": "c559d7f4",
   "metadata": {
    "scrolled": true
   },
   "outputs": [],
   "source": [
    "featurizer.cdr_features()"
   ]
  },
  {
   "cell_type": "code",
   "execution_count": null,
   "id": "d03035c8",
   "metadata": {},
   "outputs": [],
   "source": [
    "featurizer.all_features()"
   ]
  },
  {
   "cell_type": "code",
   "execution_count": null,
   "id": "029a0292",
   "metadata": {},
   "outputs": [],
   "source": [
    "import pandas as pd\n",
    "pd.read_csv('./outputs/featurizer/datasets/features.csv').head()"
   ]
  },
  {
   "cell_type": "code",
   "execution_count": null,
   "id": "49038e80",
   "metadata": {},
   "outputs": [],
   "source": [
    "featurizer.feature_plots()"
   ]
  },
  {
   "cell_type": "markdown",
   "id": "af87bf03",
   "metadata": {},
   "source": [
    "# Home Location"
   ]
  },
  {
   "cell_type": "code",
   "execution_count": 5,
   "id": "f746c10a",
   "metadata": {},
   "outputs": [],
   "source": [
    "from home_location import HomeLocator"
   ]
  },
  {
   "cell_type": "code",
   "execution_count": 6,
   "id": "ff74cce1",
   "metadata": {},
   "outputs": [
    {
     "name": "stdout",
     "output_type": "stream",
     "text": [
      "Loading CDR...\n",
      "SUCCESS!\n",
      "Loading antennas...\n",
      "Warning: 0 antennas missing location\n",
      "SUCCESS!\n",
      "SUCCESS!\n",
      "No ground truth data for home locations has been specified.\n"
     ]
    },
    {
     "ename": "AttributeError",
     "evalue": "'DataStore' object has no attribute 'home_ground_truth'",
     "output_type": "error",
     "traceback": [
      "\u001b[0;31m---------------------------------------------------------------------------\u001b[0m",
      "\u001b[0;31mAttributeError\u001b[0m                            Traceback (most recent call last)",
      "Input \u001b[0;32mIn [6]\u001b[0m, in \u001b[0;36m<cell line: 1>\u001b[0;34m()\u001b[0m\n\u001b[0;32m----> 1\u001b[0m home_locator \u001b[38;5;241m=\u001b[39m \u001b[43mHomeLocator\u001b[49m\u001b[43m(\u001b[49m\u001b[43mdatastore\u001b[49m\u001b[38;5;241;43m=\u001b[39;49m\u001b[43mdatastore\u001b[49m\u001b[43m,\u001b[49m\u001b[43m \u001b[49m\u001b[43mclean_folders\u001b[49m\u001b[38;5;241;43m=\u001b[39;49m\u001b[38;5;28;43;01mTrue\u001b[39;49;00m\u001b[43m)\u001b[49m\n",
      "File \u001b[0;32m~/Documents/cider/test_OCI/../../cider/cider/home_location.py:52\u001b[0m, in \u001b[0;36mHomeLocator.__init__\u001b[0;34m(self, datastore, dataframes, clean_folders)\u001b[0m\n\u001b[1;32m     46\u001b[0m dataframes \u001b[38;5;241m=\u001b[39m dataframes \u001b[38;5;28;01mif\u001b[39;00m dataframes \u001b[38;5;28;01melse\u001b[39;00m defaultdict(\u001b[38;5;28;01mlambda\u001b[39;00m: \u001b[38;5;28;01mNone\u001b[39;00m)\n\u001b[1;32m     47\u001b[0m data_type_map \u001b[38;5;241m=\u001b[39m {DataType\u001b[38;5;241m.\u001b[39mCDR: dataframes[\u001b[38;5;124m'\u001b[39m\u001b[38;5;124mcdr\u001b[39m\u001b[38;5;124m'\u001b[39m],\n\u001b[1;32m     48\u001b[0m                  DataType\u001b[38;5;241m.\u001b[39mANTENNAS: dataframes[\u001b[38;5;124m'\u001b[39m\u001b[38;5;124mantennas\u001b[39m\u001b[38;5;124m'\u001b[39m],\n\u001b[1;32m     49\u001b[0m                  DataType\u001b[38;5;241m.\u001b[39mSHAPEFILES: \u001b[38;5;28;01mNone\u001b[39;00m,\n\u001b[1;32m     50\u001b[0m                  DataType\u001b[38;5;241m.\u001b[39mHOME_GROUND_TRUTH: \u001b[38;5;28;01mNone\u001b[39;00m,\n\u001b[1;32m     51\u001b[0m                  DataType\u001b[38;5;241m.\u001b[39mPOVERTY_SCORES: \u001b[38;5;28;01mNone\u001b[39;00m}\n\u001b[0;32m---> 52\u001b[0m \u001b[38;5;28;43mself\u001b[39;49m\u001b[38;5;241;43m.\u001b[39;49m\u001b[43mds\u001b[49m\u001b[38;5;241;43m.\u001b[39;49m\u001b[43mload_data\u001b[49m\u001b[43m(\u001b[49m\u001b[43mdata_type_map\u001b[49m\u001b[38;5;241;43m=\u001b[39;49m\u001b[43mdata_type_map\u001b[49m\u001b[43m)\u001b[49m\n\u001b[1;32m     54\u001b[0m \u001b[38;5;66;03m# Clean and merge CDR data\u001b[39;00m\n\u001b[1;32m     55\u001b[0m outgoing \u001b[38;5;241m=\u001b[39m (\u001b[38;5;28mself\u001b[39m\u001b[38;5;241m.\u001b[39mds\u001b[38;5;241m.\u001b[39mcdr\n\u001b[1;32m     56\u001b[0m             \u001b[38;5;241m.\u001b[39mselect([\u001b[38;5;124m'\u001b[39m\u001b[38;5;124mcaller_id\u001b[39m\u001b[38;5;124m'\u001b[39m, \u001b[38;5;124m'\u001b[39m\u001b[38;5;124mcaller_antenna\u001b[39m\u001b[38;5;124m'\u001b[39m, \u001b[38;5;124m'\u001b[39m\u001b[38;5;124mtimestamp\u001b[39m\u001b[38;5;124m'\u001b[39m, \u001b[38;5;124m'\u001b[39m\u001b[38;5;124mday\u001b[39m\u001b[38;5;124m'\u001b[39m])\n\u001b[1;32m     57\u001b[0m             \u001b[38;5;241m.\u001b[39mwithColumnRenamed(\u001b[38;5;124m'\u001b[39m\u001b[38;5;124mcaller_id\u001b[39m\u001b[38;5;124m'\u001b[39m, \u001b[38;5;124m'\u001b[39m\u001b[38;5;124msubscriber_id\u001b[39m\u001b[38;5;124m'\u001b[39m)\n\u001b[1;32m     58\u001b[0m             \u001b[38;5;241m.\u001b[39mwithColumnRenamed(\u001b[38;5;124m'\u001b[39m\u001b[38;5;124mcaller_antenna\u001b[39m\u001b[38;5;124m'\u001b[39m, \u001b[38;5;124m'\u001b[39m\u001b[38;5;124mantenna_id\u001b[39m\u001b[38;5;124m'\u001b[39m))\n",
      "File \u001b[0;32m~/Documents/cider/test_OCI/../../cider/cider/datastore.py:347\u001b[0m, in \u001b[0;36mDataStore.load_data\u001b[0;34m(self, data_type_map)\u001b[0m\n\u001b[1;32m    345\u001b[0m \u001b[38;5;28;01mfor\u001b[39;00m key \u001b[38;5;129;01min\u001b[39;00m data_type_map:\n\u001b[1;32m    346\u001b[0m     dataset \u001b[38;5;241m=\u001b[39m key\u001b[38;5;241m.\u001b[39mname\u001b[38;5;241m.\u001b[39mlower()\n\u001b[0;32m--> 347\u001b[0m     \u001b[38;5;28;01mif\u001b[39;00m \u001b[38;5;28;43mgetattr\u001b[39;49m\u001b[43m(\u001b[49m\u001b[38;5;28;43mself\u001b[39;49m\u001b[43m,\u001b[49m\u001b[43m \u001b[49m\u001b[43mdataset\u001b[49m\u001b[43m)\u001b[49m \u001b[38;5;129;01mis\u001b[39;00m \u001b[38;5;28;01mNone\u001b[39;00m:\n\u001b[1;32m    348\u001b[0m         failed_load\u001b[38;5;241m.\u001b[39mappend(dataset)\n\u001b[1;32m    349\u001b[0m \u001b[38;5;28;01mif\u001b[39;00m failed_load:\n",
      "\u001b[0;31mAttributeError\u001b[0m: 'DataStore' object has no attribute 'home_ground_truth'"
     ]
    }
   ],
   "source": [
    "home_locator = HomeLocator(datastore=datastore, clean_folders=True)"
   ]
  },
  {
   "cell_type": "code",
   "execution_count": null,
   "id": "8d34cf5f",
   "metadata": {},
   "outputs": [],
   "source": []
  }
 ],
 "metadata": {
  "interpreter": {
   "hash": "fd172ae5aeb6cfef3a1e89f7d1a7f15e2f359b41cc9ce0a5b2d6350953e61e04"
  },
  "kernelspec": {
   "display_name": "Python 3 (ipykernel)",
   "language": "python",
   "name": "python3"
  },
  "language_info": {
   "codemirror_mode": {
    "name": "ipython",
    "version": 3
   },
   "file_extension": ".py",
   "mimetype": "text/x-python",
   "name": "python",
   "nbconvert_exporter": "python",
   "pygments_lexer": "ipython3",
   "version": "3.8.13"
  }
 },
 "nbformat": 4,
 "nbformat_minor": 5
}
