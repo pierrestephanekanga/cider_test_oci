{
 "cells": [
  {
   "cell_type": "code",
   "execution_count": 1,
   "id": "f0f31cc4",
   "metadata": {},
   "outputs": [],
   "source": [
    "import sys\n",
    "sys.path.insert(0, '../../cider/cider')\n",
    "sys.path.insert(0, '../../cider')"
   ]
  },
  {
   "cell_type": "code",
   "execution_count": 2,
   "id": "8ca22cc1",
   "metadata": {},
   "outputs": [],
   "source": [
    "from datastore import DataStore\n",
    "from featurizer import Featurizer"
   ]
  },
  {
   "cell_type": "code",
   "execution_count": 3,
   "id": "4e6d5cd5",
   "metadata": {},
   "outputs": [],
   "source": [
    "datastore = DataStore(cfg_dir='../../cider/configs/config.yml')"
   ]
  },
  {
   "cell_type": "code",
   "execution_count": 5,
   "id": "c43122d9",
   "metadata": {},
   "outputs": [
    {
     "data": {
      "text/plain": [
       "PosixPath('/home/kanga/Documents/cider/notebooks/../../cider/helpers')"
      ]
     },
     "execution_count": 5,
     "metadata": {},
     "output_type": "execute_result"
    }
   ],
   "source": [
    "datastore.root"
   ]
  },
  {
   "cell_type": "code",
   "execution_count": 6,
   "id": "7f18ece2",
   "metadata": {},
   "outputs": [
    {
     "name": "stderr",
     "output_type": "stream",
     "text": [
      "22/05/25 10:51:57 WARN Utils: Your hostname, kanga-Predator-G3-571 resolves to a loopback address: 127.0.1.1; using 192.168.43.1 instead (on interface wlp2s0)\n",
      "22/05/25 10:51:57 WARN Utils: Set SPARK_LOCAL_IP if you need to bind to another address\n",
      "Using Spark's default log4j profile: org/apache/spark/log4j-defaults.properties\n",
      "Setting default log level to \"WARN\".\n",
      "To adjust logging level use sc.setLogLevel(newLevel). For SparkR, use setLogLevel(newLevel).\n",
      "22/05/25 10:51:58 WARN NativeCodeLoader: Unable to load native-hadoop library for your platform... using builtin-java classes where applicable\n",
      "22/05/25 10:51:59 WARN Utils: Service 'SparkUI' could not bind on port 4040. Attempting port 4041.\n",
      "22/05/25 10:51:59 WARN Utils: Service 'SparkUI' could not bind on port 4041. Attempting port 4042.\n",
      "22/05/25 10:51:59 WARN Utils: Service 'SparkUI' could not bind on port 4042. Attempting port 4043.\n",
      "22/05/25 10:51:59 WARN Utils: Service 'SparkUI' could not bind on port 4043. Attempting port 4044.\n"
     ]
    }
   ],
   "source": [
    "import pyspark\n",
    "from pyspark.sql import SparkSession\n",
    "\n",
    "spark = SparkSession.builder.appName('SparkByExamples.com').getOrCreate()"
   ]
  },
  {
   "cell_type": "code",
   "execution_count": null,
   "id": "5b868c6d",
   "metadata": {},
   "outputs": [],
   "source": []
  }
 ],
 "metadata": {
  "kernelspec": {
   "display_name": "Python 3 (ipykernel)",
   "language": "python",
   "name": "python3"
  },
  "language_info": {
   "codemirror_mode": {
    "name": "ipython",
    "version": 3
   },
   "file_extension": ".py",
   "mimetype": "text/x-python",
   "name": "python",
   "nbconvert_exporter": "python",
   "pygments_lexer": "ipython3",
   "version": "3.8.13"
  }
 },
 "nbformat": 4,
 "nbformat_minor": 5
}
